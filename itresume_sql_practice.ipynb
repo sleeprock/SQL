{
  "nbformat": 4,
  "nbformat_minor": 0,
  "metadata": {
    "colab": {
      "name": "itresume_sql_practice.ipynb",
      "provenance": [],
      "collapsed_sections": [
        "pgJ5MPoBp-ZF",
        "0epLJ4cppWbU",
        "XKUHD7PKYPIP",
        "K-gwGYJDfyPJ",
        "2LrJFukgoKRp",
        "Lz4Fep1SWX24",
        "KT9kDqdjcxvV",
        "PFPYarhVo5Xd",
        "lIu8cpscCm8e",
        "QbrukUFHeI4D",
        "qLcHnlbvkO1M",
        "N-5-M9f9nLnz",
        "iOgp7Khin5D7",
        "j09TBZSq5eF4",
        "byTu2eXzAo3o"
      ],
      "toc_visible": true,
      "authorship_tag": "ABX9TyNzexiEHvsw/MEbA/TA2Hik",
      "include_colab_link": true
    },
    "kernelspec": {
      "name": "python3",
      "display_name": "Python 3"
    },
    "language_info": {
      "name": "python"
    }
  },
  "cells": [
    {
      "cell_type": "markdown",
      "metadata": {
        "id": "view-in-github",
        "colab_type": "text"
      },
      "source": [
        "<a href=\"https://colab.research.google.com/github/sleeprock/SQL/blob/main/itresume_sql_practice.ipynb\" target=\"_parent\"><img src=\"https://colab.research.google.com/assets/colab-badge.svg\" alt=\"Open In Colab\"/></a>"
      ]
    },
    {
      "cell_type": "markdown",
      "source": [
        "#  Фильтр по наценке и по группе"
      ],
      "metadata": {
        "id": "pgJ5MPoBp-ZF"
      }
    },
    {
      "cell_type": "markdown",
      "source": [
        "Дано\n",
        "Дана таблица analysis:\n",
        "\n",
        "|  id_an  |  name  |  id_type  |  preanalysis  |  id_cat_an  |  cost_price  |  selling_price  |  term  |  info  |\n",
        "\n",
        "Задание\n",
        "С помощью оператора UNION найти анализы из таблицы analysis с наценкой выше 35% или из 7 категории. Повторяющиеся строки необходимо оставить.\n",
        "\n",
        "Ответ должен содержать 3 поля – name, id_cat_an и рассчитанную Вами наценку в столбце markup.\n",
        "\n",
        "Примечание: в запросе необходимо использовать именно оператор UNION, а не просто комбинированные условия."
      ],
      "metadata": {
        "id": "AZDjR21hqApr"
      }
    },
    {
      "cell_type": "code",
      "source": [
        "select a.name, a.id_cat_an, \n",
        "(a.selling_price - a.cost_price)/a.cost_price*100 as markup\n",
        "from analysis a\n",
        "where (a.selling_price - a.cost_price)/a.cost_price*100 > 35\n",
        "union all\n",
        "select a.name, a.id_cat_an, \n",
        "(a.selling_price - a.cost_price)/a.cost_price*100 as markup\n",
        "from analysis a\n",
        "where a.id_cat_an=7"
      ],
      "metadata": {
        "id": "JKDIi__QqK0J"
      },
      "execution_count": null,
      "outputs": []
    },
    {
      "cell_type": "markdown",
      "source": [
        "# Минимальное значение по лексикографическому принципу"
      ],
      "metadata": {
        "id": "0epLJ4cppWbU"
      }
    },
    {
      "cell_type": "markdown",
      "source": [
        "Дана таблица analysis:\n",
        "\n",
        "|  id_an  |  name  |  id_type  |  preanalysis  |  id_cat_an  |  cost_price  |  selling_price  |  term  |  info  |\n",
        "\n",
        "\n",
        "Дана таблица types_an:\n",
        "\n",
        "|  id_type  |  name  |  description  |\n",
        "\n",
        "**Задание**\n",
        "Выбрать самое минимальное (с лексикографической точки зрения) название типа среди тех анализов, что присутствуют в таблице analysis.\n",
        "\n",
        "Ответ должен содержать поле name из таблицы types_an.\n",
        "\n",
        "Примечание: Лексикографический порядок сортировки учитывает регистр букв и их порядковый номер по алфавиту."
      ],
      "metadata": {
        "id": "1JvClgskpYyr"
      }
    },
    {
      "cell_type": "code",
      "source": [
        "sql = '''select min(t.name) from types_an t\n",
        "join analysis a on t.id_type = a.id_type\n",
        "'''"
      ],
      "metadata": {
        "id": "HPDib_9NpuZF"
      },
      "execution_count": null,
      "outputs": []
    },
    {
      "cell_type": "markdown",
      "source": [
        "#Транзитивная Связь"
      ],
      "metadata": {
        "id": "XKUHD7PKYPIP"
      }
    },
    {
      "cell_type": "markdown",
      "source": [
        "Дано\n",
        "Дана таблица clients:\n",
        "\n",
        "\n",
        "|  id_cl  |  fio  |  birthday  |  phone  |  email  |  notice  |  discount  |\n",
        "\n",
        "Дана таблица orders:\n",
        "\n",
        "|  id_orders  |  order_num  |  order_date  |  id_man  |  id_cl  |  status  |\n",
        "\n",
        "\n",
        "Дана таблица orderitems:\n",
        "\n",
        "|  id_orders  |  item_num  |  id_an  |  status  |\n",
        "\n",
        "Дана таблица analysis:\n",
        "\n",
        "|  id_an  |  name  |  id_type  |  preanalysis  |  id_cat_an  |  cost_price  |  selling_price  |  term  |  info  |\n",
        "\n",
        "Дана таблица category_an:\n",
        "\n",
        "|  id_cat_an  |  name  |  description  |\n",
        "\n",
        "Задание\n",
        "Вывести ФИО клиентов, которые когда-либо заказывали анализы из категории «Микроэлементы».\n",
        "\n",
        "Ответ должен содержать поле fio из таблицы clients."
      ],
      "metadata": {
        "id": "uXQifBziYkSQ"
      }
    },
    {
      "cell_type": "code",
      "source": [
        "#Мой вариант with\n",
        "\n",
        "sql = '''\n",
        "with analysys_cat as (\n",
        "select a.id_an, a.name, ca.name as cat_name from analysis a\n",
        "join category_an ca on a.id_cat_an = ca.id_cat_an\n",
        "where ca.name = 'Микроэлементы'\n",
        "),\n",
        "sel_orders as (\n",
        "select * from orderitems oi\n",
        "join analysys_cat ac on oi.id_an = ac.id_an\n",
        " ),\n",
        " m_orders as (\n",
        " select * from orders o\n",
        " join sel_orders so on o.id_orders = so.id_orders\n",
        " )\n",
        " select t.fio from clients t\n",
        "join m_orders mo on t.id_cl = mo.id_cl\n",
        "'''"
      ],
      "metadata": {
        "id": "xFv9CbWyYwaw"
      },
      "execution_count": null,
      "outputs": []
    },
    {
      "cell_type": "code",
      "source": [
        "#Решение с JOIN \n",
        "sql = '''\n",
        "select cl.fio\n",
        "from clients cl\n",
        "join orders o on cl.id_cl = o.id_cl\n",
        "join orderitems oi on o.id_orders = oi.id_orders\n",
        "join analysis a on oi.id_an = a.id_an\n",
        "join category_an ca on a.id_cat_an = ca.id_cat_an\n",
        "where ca.name = 'Микроэлементы'\n",
        "'''"
      ],
      "metadata": {
        "id": "8AvQkqW9begK"
      },
      "execution_count": null,
      "outputs": []
    },
    {
      "cell_type": "markdown",
      "source": [
        "# Количество чеков по сотрудникам"
      ],
      "metadata": {
        "id": "K-gwGYJDfyPJ"
      }
    },
    {
      "cell_type": "markdown",
      "source": [
        "Дана таблица transactions:\n",
        "\n",
        "|  id  |  id_transaction  |  card_id  |  maincard_id  |  date  |  sum  |  type  |  employee  |  doc_id  |  cash_id  |  shop_id  |  doc_type  |  disc_id  |  disc_source  |\n",
        "\n",
        "Задание\n",
        "Найти сотрудников с количеством чеков меньше 8 на основании таблицы transactions.\n",
        "\n",
        "Ответ должен содержать 2 поля – employee и amount - рассчитанное количество чеков."
      ],
      "metadata": {
        "id": "-y15R7hrjfzO"
      }
    },
    {
      "cell_type": "code",
      "source": [
        "#может быть несколько doc_id для одной транзакции\n",
        "sql = '''\n",
        "select t.employee, count(distinct(t.doc_id)) as amount from transactions t\n",
        "group by t.employee having count(distinct(t.doc_id)) < 8\n",
        "'''"
      ],
      "metadata": {
        "id": "ZgxsWiRrf1Pm"
      },
      "execution_count": null,
      "outputs": []
    },
    {
      "cell_type": "markdown",
      "source": [
        "# Сотрудники с максимальными накоплениями"
      ],
      "metadata": {
        "id": "2LrJFukgoKRp"
      }
    },
    {
      "cell_type": "markdown",
      "source": [
        "Дана таблица transactions:\n",
        "\n",
        "|  id  |  id_transaction  |  card_id  |  maincard_id  |  date  |  sum  |  type  |  employee  |  doc_id  |  cash_id  |  shop_id  |  doc_type  |  disc_id  |  disc_source  |\n",
        "\n",
        "Дана таблица types:\n",
        "\n",
        "+------+--------+\n",
        "|  id  |  name  |\n",
        "+------+--------+"
      ],
      "metadata": {
        "id": "7VV8npu8oSqw"
      }
    },
    {
      "cell_type": "code",
      "source": [
        "# в таблице types выясняем: 0 - начислено, 1 - списано\n",
        "\n",
        "#решения\n",
        "\n",
        "#limit\n",
        "sql = '''\n",
        "select t.employee, sum(t.sum) as summ from transactions t\n",
        "group by t.employee, t.type having t.type = 0 order by summ desc limit 1\n",
        "'''\n",
        "\n",
        "#join subquery\n",
        "sql = '''select a.employee, a.summ from\n",
        "(select t.employee, sum(t.sum) as summ from transactions t\n",
        "group by t.employee, t.type having t.type = 0 ) a\n",
        "join\n",
        "(\n",
        "select max(t.summ) from (\n",
        "select t.employee, sum(t.sum) as summ from transactions t\n",
        "group by t.employee, t.type having t.type = 0\n",
        ") t \n",
        ") t \n",
        "on a.summ = t.max\n",
        "'''\n",
        "\n",
        "#window functions\n",
        "sql = '''with esum as (\n",
        "select t.employee, sum(t.sum) as summ from transactions t\n",
        "group by t.employee, t.type having t.type = 0\n",
        "),\n",
        "emp_ranked as (\n",
        "select t.employee, t.summ,\n",
        "row_number() over(order by t.summ desc) as rn\n",
        "from esum t\n",
        "  )\n",
        " select t.employee, t.summ from emp_ranked t\n",
        " where t.rn = 1\n",
        "'''\n"
      ],
      "metadata": {
        "id": "TEquPxWToZTO"
      },
      "execution_count": null,
      "outputs": []
    },
    {
      "cell_type": "markdown",
      "source": [
        "# Начисления с разбивкой по сотрудникам и по типу скидки"
      ],
      "metadata": {
        "id": "feYrxsph44ep"
      }
    },
    {
      "cell_type": "markdown",
      "source": [
        "Дана таблица transactions:\n",
        "\n",
        "|  id  |  id_transaction  |  card_id  |  maincard_id  |  date  |  sum  |  type  |  employee  |  doc_id  |  cash_id  |  shop_id  |  doc_type  |  disc_id  |  disc_source  |\n",
        "\n",
        "Дана таблица discounts:\n",
        "\n",
        "+------+---------+\n",
        "|  id  |  value  |\n",
        "+------+---------+\n",
        "\n",
        "Задание\n",
        "Вывести начисления с разбивкой по сотрудникам и по типу скидки на основании таблицы transactions, а также добавить соответствующее значение скидки из таблицы discounts.\n",
        "\n",
        "Ответ должен содержать 3 поля – employee, value и рассчитанные начисления в столбце accruals. Результат должен быть упорядочен по сотрудникам в порядке возрастания и по начислениям в порядке убывания.\n"
      ],
      "metadata": {
        "id": "nKtV2Qm345-I"
      }
    },
    {
      "cell_type": "code",
      "source": [
        "#transactions.type  0 начисл, 1 спис\n",
        "\n",
        "select t.employee,d.value, sum(t.sum) as accruals\n",
        "from transactions t\n",
        "join discounts d\n",
        "on t.disc_id = d.id\n",
        "where t. type = 0\n",
        "group by t.employee, d.value\n",
        "order by t.employee, accruals desc"
      ],
      "metadata": {
        "id": "UJKB6Gei5HPV"
      },
      "execution_count": null,
      "outputs": []
    },
    {
      "cell_type": "markdown",
      "source": [
        "# Чеки за период дат"
      ],
      "metadata": {
        "id": "Lz4Fep1SWX24"
      }
    },
    {
      "cell_type": "markdown",
      "source": [
        "Дана таблица transactions:\n",
        "\n",
        "Задание\n",
        "Найти количество чеков в период дат 2019-10-25 - 2019-11-02 с группировкой по датам.\n",
        "\n",
        "Ответ должен содержать 2 поля – date и amount - рассчитанное количество чеков.\n",
        "\n",
        "|  id  |  id_transaction  |  card_id  |  maincard_id  |  date  |  sum  |  type  |  employee  |  doc_id  |  cash_id  |  shop_id  |  doc_type  |  disc_id  |  disc_source  |"
      ],
      "metadata": {
        "id": "hv58wYT4Wads"
      }
    },
    {
      "cell_type": "code",
      "source": [
        "sql = '''\n",
        "select date(t.date), count(distinct t.doc_id) as amount from transactions t\n",
        "where date(t.date) between '2019-10-25' and '2019-11-02'\n",
        "group by date(t.date)\n",
        "'''"
      ],
      "metadata": {
        "id": "umhWY253WZjS"
      },
      "execution_count": null,
      "outputs": []
    },
    {
      "cell_type": "markdown",
      "source": [
        "# Поиск дублей группировкой"
      ],
      "metadata": {
        "id": "KT9kDqdjcxvV"
      }
    },
    {
      "cell_type": "markdown",
      "source": [
        "Дана таблица transactions:\n",
        "\n",
        "|  id  |  id_transaction  |  card_id  |  maincard_id  |  date  |  sum  |  type  |  employee  |  doc_id  |  cash_id  |  shop_id  |  doc_type  |  disc_id  |  disc_source  |\n",
        "\n",
        "Задание\n",
        "В таблице transactions в какой-то момент появилась дублирующаяся строка. Выведите эту строку с помощью оператора GROUP BY.\n",
        "\n",
        "Ответ должен содержать все поля, кроме поля id.\n",
        "\n",
        "Примечание: Будем называть строки одинаковыми, если значения всех полей, кроме id, совпадает. ID - автоинкрементный ключ, который по умолчанию при добавлении новой строки сам всегда увеличивается на 1."
      ],
      "metadata": {
        "id": "-P5zggd-czuk"
      }
    },
    {
      "cell_type": "code",
      "source": [
        "sql = '''\n",
        "select\n",
        "id_transaction,\n",
        "card_id,\n",
        "maincard_id,\n",
        "date,\n",
        "sum,\n",
        "type,\n",
        "employee,\n",
        "doc_id,\n",
        "cash_id,\n",
        "shop_id,\n",
        "doc_type,\n",
        "disc_id,\n",
        "disc_source\n",
        "from transactions t\n",
        "\n",
        "group by \n",
        "id_transaction,\n",
        "card_id,\n",
        "maincard_id,\n",
        "date,\n",
        "sum,\n",
        "type,\n",
        "employee,\n",
        "doc_id,\n",
        "cash_id,\n",
        "shop_id,\n",
        "doc_type,\n",
        "disc_id,\n",
        "disc_source\n",
        "\n",
        "having count(1) > 1\n",
        "order by count(1) desc\n",
        "'''"
      ],
      "metadata": {
        "id": "Vxv8gzKgc85Z"
      },
      "execution_count": null,
      "outputs": []
    },
    {
      "cell_type": "markdown",
      "source": [
        "# Фильтрация агрегированных значений"
      ],
      "metadata": {
        "id": "PFPYarhVo5Xd"
      }
    },
    {
      "cell_type": "markdown",
      "source": [
        "Дана таблица transactions:\n",
        "\n",
        "|  id  |  id_transaction  |  card_id  |  maincard_id  |  date  |  sum  |  type  |  employee  |  doc_id  |  cash_id  |  shop_id  |  doc_type  |  disc_id  |  disc_source  |\n",
        "\n",
        "Дана таблица discounts:\n",
        "\n",
        "|  id  |  value  |\n",
        "\n",
        "Задание\n",
        "Посчитайте макисмальный % накопления, который был у каждого клиента из таблицы transactions. Посчитайте общую сумму накоплений по каждому клиенту. Посчитайте количество купленных позиций каждым клиентом. Выведите в результате только тех клиентов, у которых максимальный % накопления равен 7 или тех, у кого сумма накоплений больше 20 и куплено менее 5 позиций.\n",
        "\n",
        "Ответ должен содержать поля:\n",
        "\n",
        "card_id - идентификатор карты (то есть клиента)\n",
        "max_perc - максимальный процент накопления\n",
        "summ - общая сумма накоплений\n",
        "amount - количество купленных позиций"
      ],
      "metadata": {
        "id": "iaKp9e8Co7ck"
      }
    },
    {
      "cell_type": "code",
      "source": [
        "sql = '''\n",
        "select t.card_id, max(d.value) as max_perc, sum(sum) as summ,\n",
        "count(*) as amount\n",
        "from transactions t\n",
        "join discounts d\n",
        "on t.disc_id = d.id\n",
        "where type = 0\n",
        "group by t.card_id\n",
        "having (max(d.value) = 7) or (sum(sum) > 20 and (count(*)) < 5)\n",
        "'''"
      ],
      "metadata": {
        "id": "91XV9KjNpIc6"
      },
      "execution_count": null,
      "outputs": []
    },
    {
      "cell_type": "markdown",
      "source": [
        "# Второй и третий сотрудник"
      ],
      "metadata": {
        "id": "lIu8cpscCm8e"
      }
    },
    {
      "cell_type": "markdown",
      "source": [
        "Дана таблица transactions:\n",
        "\n",
        "|  id  |  id_transaction  |  card_id  |  maincard_id  |  date  |  sum  |  type  |  employee  |  doc_id  |  cash_id  |  shop_id  |  doc_type  |  disc_id  |  disc_source  |\n",
        "\n",
        "Описание полей:\n",
        "\n",
        "Задание\n",
        "Вывести сотрудников, которые по величине накоплений находятся на втором и третьем месте на основании таблицы transactions.\n",
        "\n",
        "Ответ должен содержать столбцы employee и summ - столбец с накоплениями."
      ],
      "metadata": {
        "id": "R-MwsJcaCoJM"
      }
    },
    {
      "cell_type": "code",
      "source": [
        "#offset\n",
        "sql = '''select t.employee, sum(sum) as summ\n",
        "from transactions t\n",
        "where t.type = 0\n",
        "group by t.employee order by summ desc limit 2 offset 1\n",
        "'''\n",
        "\n",
        "#window functions\n",
        "sql = '''select t.employee, t.summ\n",
        "from\n",
        "(\n",
        "select t.employee, sum(sum) as summ,\n",
        "rank() over (order by sum(sum) desc) as rn\n",
        "from transactions t\n",
        "where type = 0\n",
        "group by t.employee order by sum(sum) desc\n",
        ") t\n",
        "where t.rn in (2,3)\n",
        "'''"
      ],
      "metadata": {
        "id": "sgXzNQtjCvPb"
      },
      "execution_count": null,
      "outputs": []
    },
    {
      "cell_type": "markdown",
      "source": [
        "# Нарастающий итог"
      ],
      "metadata": {
        "id": "QbrukUFHeI4D"
      }
    },
    {
      "cell_type": "markdown",
      "source": [
        "Дано\n",
        "Дана таблица transactions:\n",
        "\n",
        "|  id  |  id_transaction  |  card_id  |  maincard_id  |  date  |  sum  |  type  |  employee  |  doc_id  |  cash_id  |  shop_id  |  doc_type  |  disc_id  |  disc_source  |\n",
        "\n",
        "Задание\n",
        "Вывести id транзакции, сумму текущего списания/начисления для данной транзакции, а также общий баланс списаний/начислений нарастающим итогом.\n",
        "\n",
        "Ответ должен содержать 3 поля – id_transaction, summ (уже с учетом знака минус, если это списание) и cumsum - рассчитанный нарастающий итог."
      ],
      "metadata": {
        "id": "1RTRuMTgeQLq"
      }
    },
    {
      "cell_type": "code",
      "source": [
        "#window function, cte\n",
        "\n",
        "sql = '''with sum_mod as (\n",
        "select t.id_transaction,\n",
        "case when t.type = 0 then t.sum else -(t.sum) end as summ\n",
        "from transactions t\n",
        ")\n",
        "select t.*,\n",
        "sum(t.summ) over (order by id_transaction) as cumsum\n",
        "from sum_mod t\n",
        "'''\n",
        "\n",
        "#window function\n",
        "sql = '''select t.id_transaction,\n",
        "case when t.type = 0 then t.sum else -(t.sum) end as summ,\n",
        "sum(case when t.type = 0 then t.sum else -(t.sum) end) over (order by id_transaction) as cumsum\n",
        "from transactions t\n",
        "'''"
      ],
      "metadata": {
        "id": "NzeYYVQXePVO"
      },
      "execution_count": null,
      "outputs": []
    },
    {
      "cell_type": "markdown",
      "source": [
        "# Нумерация строк чека"
      ],
      "metadata": {
        "id": "qLcHnlbvkO1M"
      }
    },
    {
      "cell_type": "markdown",
      "source": [
        "Дано\n",
        "Дана таблица transactions:\n",
        "\n",
        "|  id  |  id_transaction  |  card_id  |  maincard_id  |  date  |  sum  |  type  |  employee  |  doc_id  |  cash_id  |  shop_id  |  doc_type  |  disc_id  |  disc_source  |\n",
        "\n",
        "Задание\n",
        "Вывести номер чека, дату покупки и порядковый номер строки для конкретного чека.\n",
        "\n",
        "Ответ должен содержать 3 поля – doc_id, date, num - рассчитанную нумерацию строк."
      ],
      "metadata": {
        "id": "kU-Q4mFokRwT"
      }
    },
    {
      "cell_type": "code",
      "source": [
        "#window functions partition by\n",
        "\n",
        "sql = '''select t.doc_id, date(t.date),\n",
        "row_number() over (partition by t.doc_id order by t.date) as num\n",
        "from transactions t\n",
        "'''\n"
      ],
      "metadata": {
        "id": "OQuxWEpkkUoC"
      },
      "execution_count": null,
      "outputs": []
    },
    {
      "cell_type": "markdown",
      "source": [
        "# Ранжирование с разрывами"
      ],
      "metadata": {
        "id": "N-5-M9f9nLnz"
      }
    },
    {
      "cell_type": "markdown",
      "source": [
        "Дана таблица transactions:\n",
        "\n",
        "|  id  |  id_transaction  |  card_id  |  maincard_id  |  date  |  sum  |  type  |  employee  |  doc_id  |  cash_id  |  shop_id  |  doc_type  |  disc_id  |  disc_source  |\n",
        "\n",
        "Задание\n",
        "Проранжируйте абсолютные значения начислений и списаний из таблицы transactions в рамках каждого сотрудника. Расчет ранга должен идти по убыванию абсолютного значения. Если для одного сотрудника встречается несколько одинаковых значений, то им должен быть присвоен одинаковый ранг. При этом следующий ранг должен идти с разрывом, например:\n",
        "\n",
        "+---------+--------+\n",
        "|  value  |  rank  |\n",
        "+---------+--------+\n",
        "|   10    |    1   |\n",
        "|    5    |    2   |\n",
        "|    5    |    2   |\n",
        "|    1    |    4   |\n",
        "+---------+--------+\n",
        "Ответ должен содержать 4 поля: employee, type, sum, rnk - рассчитанный ранг."
      ],
      "metadata": {
        "id": "e-TrX-4LnOx6"
      }
    },
    {
      "cell_type": "code",
      "source": [
        "slq = '''\n",
        "select t.employee, t.type, t.sum,\n",
        "rank() over(partition by t.employee order by t.sum desc) as rnk\n",
        "from transactions t\n",
        "'''"
      ],
      "metadata": {
        "id": "7gFMP3vsnTS5"
      },
      "execution_count": null,
      "outputs": []
    },
    {
      "cell_type": "markdown",
      "source": [
        "# Ранжирование без разрывов"
      ],
      "metadata": {
        "id": "iOgp7Khin5D7"
      }
    },
    {
      "cell_type": "code",
      "source": [
        "#условия из предыдущего задания\n",
        "sql = '''\n",
        "select t.employee, t.type, t.sum,\n",
        "dense_rank() over(partition by t.employee order by t.sum desc) as rnk\n",
        "from transactions t\n",
        "'''"
      ],
      "metadata": {
        "id": "m9ZYZnJTn6K5"
      },
      "execution_count": null,
      "outputs": []
    },
    {
      "cell_type": "markdown",
      "source": [
        "# [Тестовое Альфа-банк] Покупки телефонов в Туле по месяцам"
      ],
      "metadata": {
        "id": "1bJ_hgQrOONS"
      }
    },
    {
      "cell_type": "markdown",
      "source": [
        "Дано\n",
        "Дана таблица клиентов customer:\n",
        "\n",
        "\n",
        "|  ID_CUSTOMER  |  ADDRESS_1  |  ADDRESS_2  |  COMPANY  |  FIRST_NAME  |  COUNTY_CODE  |  TOWN  |  LAST_NAME  |  POSTCODE  |  TELEPHONE  |\n",
        "\n",
        "\n",
        "Дана таблица товаров skus:\n",
        "\n",
        "|  id  |  price  |  category  |\n",
        "\n",
        "Дана таблица продаж purchases:\n",
        "\n",
        "|  id  |  created_at  |  user_id  |  sku_id  |\n",
        "\n",
        "Задание\n",
        "Необходимо вывести количество людей из Тулы, которые покупали телефоны с разбивкой по месяцам.\n",
        "\n",
        "Примечание: Телефоны - товары с категорей 2 из таблицы skus.\n",
        "\n",
        "Важно: Месяца должны быть представлены не в виде цифр, а в виде английских слов.\n",
        "\n",
        "Примечание: Если один человек купил несколько раз за месяц, считаем это за одну покупку.\n",
        "\n",
        "Примечание: Предполагается, что в таблице представлены данные только за 1 год.\n",
        "\n",
        "Примечание: Используемая СУБД - PostgreSQL.\n",
        "\n",
        "Примечание: Значения в таблице представлены на латинице.\n",
        "\n",
        "Дополнительная информация\n",
        "Итоговая таблица должна иметь вид:\n",
        "\n",
        "\n",
        "|  month  |  people  |\n",
        "\n",
        "|  june   |     n    |\n",
        "\n",
        "Важно: Названия столбцов должны в точности совпадать.\n",
        "\n",
        "Важно: Результат должен быть отсртирован по убыванию значений в столбце people."
      ],
      "metadata": {
        "id": "1fCp_-keOVgX"
      }
    },
    {
      "cell_type": "code",
      "source": [
        "sql = '''select to_char(p.created_at, 'month') as month,\n",
        "count(distinct p.user_id) as people\n",
        "from purchases p\n",
        "join customer c on p.user_id = c.ID_CUSTOMER\n",
        "join skus s on p.sku_id = s.id\n",
        "where c.town = 'Tula' and s.category = 2\n",
        "group by month order by people desc\n",
        "'''"
      ],
      "metadata": {
        "id": "WVxib4gNOX4v"
      },
      "execution_count": null,
      "outputs": []
    },
    {
      "cell_type": "markdown",
      "source": [
        "# Следующее/предыдущее значение"
      ],
      "metadata": {
        "id": "7RFQngZSsX5U"
      }
    },
    {
      "cell_type": "markdown",
      "source": [
        "Дана таблица transactions:\n",
        "\n",
        "|  id  |  id_transaction  |  card_id  |  maincard_id  |  date  |  sum  |  type  |  employee  |  doc_id  |  cash_id  |  shop_id  |  doc_type  |  disc_id  |  disc_source  |\n",
        "\n",
        "Задание\n",
        "Для каждой строки вывести предыдущее и следующее значение sum в рамках текущего документа. Если предыдущего/следующего значения нет, вывести NULL.\n",
        "\n",
        "Примечание: «Предыдущий» и «следующий» обозначают: предыдущая и следующая строка в порядке возрастания столбца id в рамках одного документа.\n",
        "\n",
        "Ответ должен содержать 5 полей - id, doc_id, sum, ld - следующее значение, lg - предыдущее значение."
      ],
      "metadata": {
        "id": "LiYvF1C1shay"
      }
    },
    {
      "cell_type": "code",
      "source": [
        "sql = '''\n",
        "select t.id, t.doc_id, t.sum,\n",
        "lead(t.sum,1) over (partition by t.doc_id order by t.id) as ld,\n",
        "lag(t.sum,1) over (partition by t.doc_id order by t.id) as lg\n",
        "from transactions t\n",
        "'''"
      ],
      "metadata": {
        "id": "A4IVsJKGsaP6"
      },
      "execution_count": null,
      "outputs": []
    },
    {
      "cell_type": "markdown",
      "source": [
        "#Прирост начислений\n",
        "\n",
        "Задание\n",
        "\n",
        "Для каждого сотрудника посчитайте прирост суммарных начислений по сравнению с предыдущей транзакцией. Списания из расчета необходимо исключить. Если предыдущей транзакции нет, необходимо вывести NULL.\n",
        "\n",
        "Примечание: «Предыдущая» транзакция определяется по временному признаку.\n",
        "\n",
        "Ответ должен содержать 6 полей:\n",
        "\n",
        "employee\n",
        "id_transaction\n",
        "dt - дату и время\n",
        "lg - сумму накоплений в предыдущей транзакции\n",
        "sm - сумму накоплений в текущей транзакции\n",
        "inc - значение прироста\n",
        "Важно: Прирост округлите до 2 знака после запятой.\n",
        "\n",
        "Ответ должен быть упорядочен по сотрудникам и по дате-времени."
      ],
      "metadata": {
        "id": "mURWqNTvrKfV"
      }
    },
    {
      "cell_type": "code",
      "source": [
        "sql = '''\n",
        "SELECT t.employee, t.id_transaction, t.dt, t.lg, t.sm,\n",
        "round((t.sm-t.lg)/(t.lg*1.0), 2) AS inc\n",
        "from (\n",
        " select t.employee, t.id_transaction, t.dt,\n",
        " lag(sm) over (partition by t.employee order by t.dt) as lg,\n",
        " t.sm\n",
        " from (\n",
        "   select t.employee, t.id_transaction, SUM(sum) AS sm, MIN(t.date) as dt\n",
        "   from transactions t\n",
        "   where type = 0\n",
        "   group by t.employee, t.id_transaction\n",
        "       ) t\n",
        "    )t\n",
        "order by t.employee, t.dt\n",
        "'''"
      ],
      "metadata": {
        "id": "an9yk93DrLng"
      },
      "execution_count": null,
      "outputs": []
    },
    {
      "cell_type": "markdown",
      "source": [
        "# Сделать из «широкой» таблицы «длинную»"
      ],
      "metadata": {
        "id": "sRqMsEKrrqeu"
      }
    },
    {
      "cell_type": "code",
      "source": [
        "#выбираем из широкой несколько подтаблиц, объединяем\n",
        "sql = '''\n",
        "select t.name, 'FIO' as key, t.FIO as value\n",
        "from WideTable t\n",
        "union\n",
        "select t.name, 'Phone' as key, t.Phone as value\n",
        "from WideTable t\n",
        "union\n",
        "select t.name, 'Email' as key, t.Email as value\n",
        "from WideTable t\n",
        "order by name, key, value\n",
        "'''"
      ],
      "metadata": {
        "id": "MmGWVxrseBYs"
      },
      "execution_count": null,
      "outputs": []
    },
    {
      "cell_type": "markdown",
      "source": [
        "#Найти все пары различных клиентов"
      ],
      "metadata": {
        "id": "vlZ7gm9xi8U4"
      }
    },
    {
      "cell_type": "code",
      "source": [
        "#cross join\n",
        "sql = '''\n",
        "with moscow as (\n",
        "select t.first_name from CUSTOMER t\n",
        "where t.town = 'Moscow'\n",
        ")\n",
        "select m.first_name as customer1, c.first_name as customer2 from moscow m\n",
        "cross join CUSTOMER c\n",
        "where c.town = 'Moscow' AND m.first_name != c.first_name\n",
        "'''\n",
        "#более аккуратное решение\n",
        "sql = '''\n",
        "select c1.first_name as customer1, c2.first_name as customer2\n",
        "from customer c1\n",
        "cross join customer c2\n",
        "where c1.town = 'Moscow' AND c2.town = 'Moscow'\n",
        "     AND c1.first_name != c2.first_name\n",
        "'''"
      ],
      "metadata": {
        "id": "NYR2c7p_i_0i"
      },
      "execution_count": null,
      "outputs": []
    },
    {
      "cell_type": "markdown",
      "source": [
        "#Нарастающий итог продаж\n",
        "Дано\n",
        "Есть таблица анализов Analysis:\n",
        "\n",
        "| an_id | an_name | an_cost | an_price | an_group |\n",
        "\n",
        "Есть таблица групп анализов Groups:\n",
        "\n",
        "| gr_id | gr_name | gr_temp |\n",
        "\n",
        "gr_id - ID группы\n",
        "gr_name - Название группы\n",
        "gr_temp - Температурный режим хранения\n",
        "\n",
        "Есть таблица заказов Orders:\n",
        "\n",
        "| ord_id | ord_datetime | ord_an  |\n",
        "\n",
        "ord_id - ID заказа\n",
        "ord_datetime - Дата и время заказа\n",
        "ord_an - ID анализа\n",
        "\n",
        "Задание\n",
        "Нарастающим итогом вывести увеличение общей суммы продаж с каждым новым заказом в порядке увеличения ID.\n",
        "\n",
        "Итоговая таблица должна содержать столбцы:\n",
        "\n",
        "dt - дату заказа\n",
        "ord_id - ID заказа\n",
        "cumsum - накопительный итог\n",
        "Результат отсортируйте по id заказа."
      ],
      "metadata": {
        "id": "rHTf65T7zF5v"
      }
    },
    {
      "cell_type": "code",
      "source": [
        "sql = '''\n",
        "select date(o.ord_datetime) as dt, o.ord_id ,\n",
        "sum(an_price) over (order by o.ord_id) as cumsum\n",
        "from orders o\n",
        "join Analysis a on a.an_id = o.ord_an\n",
        "'''"
      ],
      "metadata": {
        "id": "lBcNZ61kzW4J"
      },
      "execution_count": null,
      "outputs": []
    },
    {
      "cell_type": "markdown",
      "source": [
        "#Третий анализ по количеству продаж"
      ],
      "metadata": {
        "id": "j09TBZSq5eF4"
      }
    },
    {
      "cell_type": "markdown",
      "source": [
        "```\n",
        "Дано\n",
        "Есть таблица анализов Analysis:\n",
        "\n",
        "+-------+---------+---------+----------+----------+\n",
        "| an_id | an_name | an_cost | an_price | an_group |\n",
        "+-------+---------+---------+----------+----------+\n",
        "an_id - ID анализа\n",
        "an_name - Название анализа\n",
        "an_cost - Себестоимость анализа\n",
        "an_price - Розничная цена анализа\n",
        "an_group - Группа анализов\n",
        "Есть таблица групп анализов Groups:\n",
        "\n",
        "+-------+---------+---------+\n",
        "| gr_id | gr_name | gr_temp |\n",
        "+-------+---------+---------+\n",
        "gr_id - ID группы\n",
        "gr_name - Название группы\n",
        "gr_temp - Температурный режим хранения\n",
        "Есть таблица заказов Orders:\n",
        "\n",
        "+--------+--------------+---------+\n",
        "| ord_id | ord_datetime | ord_an  |\n",
        "+--------+--------------+---------+\n",
        "ord_id - ID заказа\n",
        "ord_datetime - Дата и время заказа\n",
        "ord_an - ID анализа\n",
        "Задание\n",
        "Вывести третий анализ по количеству продаж за весь период.\n",
        "\n",
        "Результат должен содержать столбцы:\n",
        "\n",
        "ID анализа\n",
        "Название анализа\n",
        "Количество продаж cnt\n",
        "Ранг анализа в зависимости от продаж rn\n",
        "\n",
        "```\n",
        "\n"
      ],
      "metadata": {
        "id": "Hd-S1D7i5hoo"
      }
    },
    {
      "cell_type": "code",
      "source": [
        "sql = '''\n",
        "select a.an_id, a.an_name, t.cnt,\n",
        "rank() over(order by t.cnt desc) as rn\n",
        "from (\n",
        " select o.ord_an, count(1) as cnt\n",
        " from Orders o\n",
        " group by o.ord_an\n",
        ") t\n",
        "join Analysis a\n",
        "on a.an_id = t.ord_an\n",
        "limit 1 offset 2\n",
        "'''"
      ],
      "metadata": {
        "id": "MtW5cgsD5wnx"
      },
      "execution_count": null,
      "outputs": []
    },
    {
      "cell_type": "markdown",
      "source": [
        "#Расположение студентов после пересадки"
      ],
      "metadata": {
        "id": "byTu2eXzAo3o"
      }
    },
    {
      "cell_type": "markdown",
      "source": [
        "\n",
        "\n",
        "```\n",
        "Дана таблица Students, где указана информация о том, где сидит каждый студент:\n",
        "\n",
        "+----------+----------+\n",
        "|   seat   |   name   |\n",
        "+----------+----------+\n",
        "seat - Номер места студента (автоинкрементное поле, пропусков нет)\n",
        "name - имя студента\n",
        "Было принято решение поменять студентов, которые сидят рядом, местами. Напишите SELECT-запрос, который из исходной таблицы сформирует расположение студентов после пересадки.\n",
        "\n",
        "Примечание: 1 меняется местом со 2, 3 с 4 и так далее. Если студентов нечетное количество, то последний студент не пересаживается, а остается на своем месте.\n",
        "```\n",
        "\n"
      ],
      "metadata": {
        "id": "eHfQ9Um1Aq-D"
      }
    },
    {
      "cell_type": "code",
      "source": [
        "#мое решение с lag\n",
        "sql = '''\n",
        "select\n",
        "t.seat,\n",
        "  case when MOD(t.seat, 2) = 0\n",
        "  then lag(t.name) over (order by t.seat)\n",
        "  when MOD(t.seat, 2) = 1 AND t.seat != (select MAX(t.seat) from Students t)\n",
        "  then lead(t.name) over (order by t.seat)\n",
        "  else t.name\n",
        "  end as name\n",
        "from Students t\n",
        "'''\n",
        "\n",
        "#решение с изменением номера seat\n",
        "sql = '''\n",
        "SELECT\n",
        "(\n",
        "  CASE\n",
        "  WHEN MOD(seat,2)=1 AND seat != (SELECT COUNT(*) FROM Students) THEN seat+1\n",
        "  WHEN MOD(seat,2)=0 THEN seat-1\n",
        "  ELSE seat END\n",
        "),\n",
        "  name\n",
        "FROM Students\n",
        "ORDER BY 1\n",
        "'''"
      ],
      "metadata": {
        "id": "FXuWJrO5AtrO"
      },
      "execution_count": null,
      "outputs": []
    }
  ]
}