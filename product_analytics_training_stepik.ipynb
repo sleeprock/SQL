{
  "nbformat": 4,
  "nbformat_minor": 0,
  "metadata": {
    "colab": {
      "name": "product_analytics_training_stepik",
      "provenance": [],
      "collapsed_sections": [
        "adlp0vaFFTow",
        "TjDNEEL7F4Mg",
        "7GNsNnWLPgs8",
        "VEHZpNNBPo3l",
        "G--lGCIgaDm6",
        "--9FRcoPoX64",
        "-unLlXtY8ok0",
        "3XsaqgKH9uGs",
        "U5xDptIALjCS"
      ],
      "authorship_tag": "ABX9TyPDaA48QH1CQoP//FgsSpUp",
      "include_colab_link": true
    },
    "kernelspec": {
      "name": "python3",
      "display_name": "Python 3"
    },
    "language_info": {
      "name": "python"
    }
  },
  "cells": [
    {
      "cell_type": "markdown",
      "metadata": {
        "id": "view-in-github",
        "colab_type": "text"
      },
      "source": [
        "<a href=\"https://colab.research.google.com/github/sleeprock/SQL/blob/main/product_analytics_training_stepik.ipynb\" target=\"_parent\"><img src=\"https://colab.research.google.com/assets/colab-badge.svg\" alt=\"Open In Colab\"/></a>"
      ]
    },
    {
      "cell_type": "markdown",
      "source": [
        "Задания по SQL. Тренажер по продуктовой аналитике (https://stepik.org/course/83415/syllabus)"
      ],
      "metadata": {
        "id": "_ozIXvYlie_G"
      }
    },
    {
      "cell_type": "markdown",
      "source": [
        "#Задача1\n",
        "Выводит пользователей, которые прослушивают рок, но никогда не слушают поп."
      ],
      "metadata": {
        "id": "adlp0vaFFTow"
      }
    },
    {
      "cell_type": "code",
      "source": [
        "sql = '''\n",
        "select distinct t.user_id from listen_table t\n",
        "where t.music_category = 'rock'\n",
        "AND t.user_id not in (\n",
        "select t.user_id from listen_table t\n",
        "where t.music_category = 'pop'\n",
        ")\n",
        "'''"
      ],
      "metadata": {
        "id": "7KyCzOAHFyHP"
      },
      "execution_count": null,
      "outputs": []
    },
    {
      "cell_type": "markdown",
      "source": [
        "#Задача 2. \n",
        "Выводит пользователей, которые оплачивают подписку в первые три дня после регистрации."
      ],
      "metadata": {
        "id": "TjDNEEL7F4Mg"
      }
    },
    {
      "cell_type": "code",
      "source": [
        "#\n",
        "sql = '''\n",
        "with dates as (\n",
        "select t.user_id, date(t.payment_date) as pay, date(r.registration_date) as reg\n",
        "from payment_table t\n",
        "join registration_table r on t.user_id = r.user_id\n",
        ")\n",
        "select t.user_id\n",
        "from dates t\n",
        "where datediff(t.pay, t.reg) <=2\n",
        "'''\n",
        "\n",
        "#\n",
        "sql = '''\n",
        "select t.user_id\n",
        "from payment_table t\n",
        "join registration_table r on t.user_id = r.user_id\n",
        "where datediff(t.payment_date, r.registration_date) <=2\n",
        "'''"
      ],
      "metadata": {
        "id": "YMWI2SSsKiF5"
      },
      "execution_count": null,
      "outputs": []
    },
    {
      "cell_type": "markdown",
      "source": [
        "#Задача 3.\n",
        "Первый трек, который прослушал пользователь."
      ],
      "metadata": {
        "id": "7GNsNnWLPgs8"
      }
    },
    {
      "cell_type": "code",
      "source": [
        "sql = '''\n",
        "select t.user_id, t.track_name from listen_table t\n",
        "where t.listen_date in (\n",
        "select min(t.listen_date) from listen_table t\n",
        "group by t.user_id\n",
        ")\n",
        "'''"
      ],
      "metadata": {
        "id": "H7Nfhc5iPj9t"
      },
      "execution_count": null,
      "outputs": []
    },
    {
      "cell_type": "markdown",
      "source": [
        "#Задача 4.\n",
        "Сколько пользователей, которые оплатили подписку, но не слушают музыку?"
      ],
      "metadata": {
        "id": "VEHZpNNBPo3l"
      }
    },
    {
      "cell_type": "code",
      "source": [
        "#my: join, null\n",
        "sql = '''\n",
        "select count(distinct t.user_id) \n",
        "from (\n",
        "select p.user_id,\n",
        "case when l.user_id is NULL then 1 else 0 end as count\n",
        "from payment_table p\n",
        "left join listen_table l on p.user_id = l.user_id\n",
        "where l.user_id is NULL\n",
        "  ) t\n",
        "'''\n",
        "\n",
        "#not exists\n",
        "sql = '''\n",
        "select count(distinct p.user_id) from payment_table p\n",
        " where not exists(\n",
        " select 1 from listen_table t\n",
        " where t.user_id=p.user_id\n",
        " )\n",
        "'''"
      ],
      "metadata": {
        "id": "ExvmUf0uUivd"
      },
      "execution_count": null,
      "outputs": []
    },
    {
      "cell_type": "markdown",
      "source": [
        "#Задача 5.\n",
        "Какой исполнитель самый популярный?"
      ],
      "metadata": {
        "id": "G--lGCIgaDm6"
      }
    },
    {
      "cell_type": "code",
      "source": [
        "sql = '''\n",
        "select t.musician_name, count(t.musician_name) from listen_table t\n",
        "group by t.musician_name\n",
        "order by count(t.musician_name) desc limit 1\n",
        "'''"
      ],
      "metadata": {
        "id": "N1y_mtG5aGEf"
      },
      "execution_count": null,
      "outputs": []
    },
    {
      "cell_type": "code",
      "source": [
        "services = ['Яндекс', 'Spotify','Apple Podcast','Boom','Last.fm',\n",
        "'Google Music','Музыка VK','Apple Music']"
      ],
      "metadata": {
        "id": "dqhYfB5vaJ8D"
      },
      "execution_count": null,
      "outputs": []
    },
    {
      "cell_type": "markdown",
      "source": [
        "#2.1\n",
        "Требуется посчитать: сколько процентов прослушиваний приходится на рекомендации друзей?\n",
        "\n",
        "Мы собрали данные в таблицу прослушиваний песен пользователями + добавили информацию о лайках + источнике прослушивания и времени прослушивания.\n",
        "\n",
        "В таблице лежат следующие данные: \n",
        "\n",
        "likes - стандартный палец вверх \n",
        "\n",
        "likes_1-likes_3 - оценка песни по трем критериям (бит, слова, музыка)\n",
        "\n",
        "source_id - имеет 4 значения: \n",
        "\n",
        "1 - песня из рубрики популярное или подборки приложений, \n",
        "\n",
        "2 - песня из сохраненных\n",
        "\n",
        "3 - песня из рекомендаций \n",
        "\n",
        "4 - песня от друзей\n",
        "\n",
        "song_id user_id like like_1 like_2 like_3 source_id listen_time_percentage"
      ],
      "metadata": {
        "id": "--9FRcoPoX64"
      }
    },
    {
      "cell_type": "code",
      "source": [
        "sql = '''\n",
        "select \n",
        "(\n",
        "select count(t.source_id) from listen_table t\n",
        "where t.source_id = 4\n",
        ") / count(t.source_id) * 100\n",
        "from listen_table t\n",
        "'''"
      ],
      "metadata": {
        "id": "r3_7uWqgoqW_"
      },
      "execution_count": null,
      "outputs": []
    },
    {
      "cell_type": "markdown",
      "source": [
        "#2.2\n",
        "Теперь мы знаем что 20% прослушиваний приходится на рекомендации от друзей. \n",
        "\n",
        "Давайте теперь узнаем — насколько эта музыка нравится пользователям. Посчитаем средний процент времени прослушивания этих песен. "
      ],
      "metadata": {
        "id": "-unLlXtY8ok0"
      }
    },
    {
      "cell_type": "code",
      "source": [
        "sql = '''\n",
        "select avg(t.listen_time_percentage) from listen_table t\n",
        "where t.source_id = 4\n",
        "group by t.source_id\n",
        "'''"
      ],
      "metadata": {
        "id": "-TLqBEIj8rkw"
      },
      "execution_count": null,
      "outputs": []
    },
    {
      "cell_type": "markdown",
      "source": [
        "#2.3 \n",
        "Теперь мы знаем, что 20% прослушиваний приходится на рекомендации от друзей.\n",
        "В среднем, процент «дослушивания» треков чуть больше 46%, что уже вполне неплохо!\n",
        "\n",
        "Осталось выяснить, какой процент людей пользуется этой функцией.\n",
        "Для этого надо посчитать процент тех, кто послушал хотя бы два трека по рекомендации друзей, от всех пользователей. "
      ],
      "metadata": {
        "id": "3XsaqgKH9uGs"
      }
    },
    {
      "cell_type": "code",
      "source": [
        "#\n",
        "sql = '''\n",
        "select \n",
        "(\n",
        " select count(*) from (\n",
        "select t.user_id, count(t.source_id) from listen_table t\n",
        "where t.source_id = 4\n",
        "group by t.user_id having count(t.source_id) > 1\n",
        ") as z\n",
        ") /\n",
        "count(distinct t.user_id) * 100\n",
        "from listen_table t\n",
        "'''\n",
        "\n",
        "#with, over\n",
        "sql = ''' with totcnt as (\n",
        "select t.user_id, count(t.source_id),\n",
        "count(*) over() as totalrec\n",
        "from listen_table t\n",
        "where t.source_id = 4\n",
        "group by t.user_id having count(t.source_id) > 1\n",
        ")\n",
        "select count(distinct tc.user_id) / count(distinct t.user_id) * 100 from listen_table t\n",
        "left join totcnt tc on t.user_id = tc.user_id\n",
        "'''"
      ],
      "metadata": {
        "id": "kvyqWeYe-Am4"
      },
      "execution_count": null,
      "outputs": []
    },
    {
      "cell_type": "markdown",
      "source": [
        "#2.4\n",
        "Давайте выясним, как работает наша система рекомендаций музыки (source_id = 3).\n",
        "Для этого надо посчитать: в скольки процентах случаев пользователь переключал трек рекомендованный системой в первые секунды (возьмем процент «дослушивания» меньше 15%). "
      ],
      "metadata": {
        "id": "U5xDptIALjCS"
      }
    },
    {
      "cell_type": "code",
      "source": [
        "sql = '''\n",
        "select (\n",
        "(\n",
        "select distinct count(*) from \n",
        "(select * from listen_table t where t.source_id = 3 and t.listen_time_percentage <= 15 ) as z\n",
        ")\n",
        "/\n",
        "(\n",
        "select distinct count(*) from listen_table t\n",
        "where t.source_id = 3\n",
        ") * 100\n",
        ") as prc\n",
        "'''\n"
      ],
      "metadata": {
        "id": "hL3dsEbfMBD3"
      },
      "execution_count": null,
      "outputs": []
    },
    {
      "cell_type": "markdown",
      "source": [
        ""
      ],
      "metadata": {
        "id": "_5AmXJp0SDn6"
      }
    }
  ]
}